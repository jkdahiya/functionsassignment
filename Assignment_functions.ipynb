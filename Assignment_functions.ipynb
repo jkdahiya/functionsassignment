{
 "cells": [
  {
   "cell_type": "markdown",
   "id": "755093dc-3876-482d-9df0-85126c42f61e",
   "metadata": {},
   "source": [
    "Ques1 - What is the difference between a function and a method in Python?\n",
    "Ans1  - in python both function and method used to perform any action and return the result. the main diffrence between the two is function is defined \n",
    "        using def and is defined globally and it is not bound to any object but in case of method it is associated with object and can not be called \n",
    "        saperatly."
   ]
  },
  {
   "cell_type": "raw",
   "id": "4bca354f-7a8c-4d8b-8036-e06fd32a9008",
   "metadata": {},
   "source": [
    "Ques2 - Explain the concept of function arguments and parameters in Python ?\n",
    "Ans   - In python parameters are are the placeholder defined in function. it define what input the function expect. but arguments are the actual value\n",
    "        passed to the function when it is called ."
   ]
  },
  {
   "cell_type": "raw",
   "id": "647cb0ea-0e91-49bd-af0c-1b587c7e3de4",
   "metadata": {},
   "source": [
    "Ques3 - What are the different ways to define and call a function in Python ?\n",
    "Ans   - ways to define the functions\n",
    "        >> using def() \n",
    "        >> using def() with parameter\n",
    "        >> using def() with default parameter\n",
    "        >> using def() with returning valur\n",
    "        ways to call a function\n",
    "        >> call by name followed by parentheses\n",
    "        >> with argument\n",
    "        >> with default parameter\n",
    "        >> using return value"
   ]
  },
  {
   "cell_type": "raw",
   "id": "8995ffa5-eb9e-4a3e-b1a4-c18defea565a",
   "metadata": {},
   "source": [
    "Ques4 - What is the purpose of the `return` statement in a Python function ?\n",
    "Ans   - the return statement specifies the value (or values) that should be sent back to where the function was called and The return statement also \n",
    "        immediately ends the function’s execution. Any code after a return within the same block will not be executed"
   ]
  },
  {
   "cell_type": "raw",
   "id": "c4e0df99-8908-4caf-bf6e-8072c799d39c",
   "metadata": {},
   "source": [
    "Ques5 - What are iterators in Python and how do they differ from iterables ?\n",
    "Ans   - iterables in python refers to the object which are able to return its member one by one ex- list,tupple,range,string etc. while iterator is an\n",
    "        object that keeps state and produces the next value when you call next() it is implimented on object by function iter()."
   ]
  },
  {
   "cell_type": "raw",
   "id": "31aa2256-fe80-4a3f-b934-94610115caf3",
   "metadata": {},
   "source": [
    "Ques6 - Explain the concept of generators in Python and how they are defined .\n",
    "Ans   - Generators are a type of iterator that allow you to iterate over data lazily means they generate values one by one by using next() and do not \n",
    "        stores all the computation and return in one go. it uses yield() instead of return() for ending the code."
   ]
  },
  {
   "cell_type": "raw",
   "id": "f5b2f6ea-9c91-4698-af09-5ef2a790ce5d",
   "metadata": {},
   "source": [
    "Ques7 - What are the advantages of using generators over regular functions?\n",
    "Ans   - Advantages of using generators over regular functions\n",
    "        >> iterates one value at a time\n",
    "        >> it is memory efficient as it does not store all data and return in one go as regular function do.\n",
    "        >> it is cleaner and more readable code\n",
    "        >> it is fast as it iterate on element at time and is useful when working on huge data."
   ]
  },
  {
   "cell_type": "raw",
   "id": "9c4701c2-6a97-4a0e-9838-83f57e32fdca",
   "metadata": {},
   "source": [
    "Ques8 - What is a lambda function in Python and when is it typically used .\n",
    "Ans   - A lambda function is a small, anonymous function defined using the lambda keyword. It can take any number of arguments but can only have one\n",
    "        expression no need for multi line code . we generally uses lambda function when we need simple logic or with no loops in a process."
   ]
  },
  {
   "cell_type": "raw",
   "id": "b8c0e431-75cb-402b-a7b9-c27e9c1b00c6",
   "metadata": {},
   "source": [
    "Ques9 - Explain the purpose and usage of the `map()` function in Python .\n",
    "Ans   - The map() function in Python is used to apply a function to every item in an iterable (like a list, tuple, etc.) and return a map object,\n",
    "        which is an iterator that yields the results lazily. we use map() function in following senerios-\n",
    "        >> when we need to transform the data \n",
    "        >> Text processing \n",
    "        >> combine different data types"
   ]
  },
  {
   "cell_type": "raw",
   "id": "9520198f-3666-4af0-a8d0-5ca906ea1657",
   "metadata": {},
   "source": [
    "Ques10 - What is the difference between `map()`, `reduce()`, and `filter()` functions in Python?\n",
    "Ans    - map() function Apply a function to each item in the iterable while filter() function Keep only the items for which the function returns True\n",
    "         and reduce() function apply a function cumulatively to the items, reducing the iterable to a single value"
   ]
  },
  {
   "cell_type": "code",
   "execution_count": null,
   "id": "89013233-1b7e-4759-b550-d7d64bb332db",
   "metadata": {},
   "outputs": [],
   "source": [
    "# Practical Questions"
   ]
  },
  {
   "cell_type": "raw",
   "id": "9585b378-7951-4ef4-ba38-6c376807f045",
   "metadata": {},
   "source": [
    "Ques1 -  Write a Python function that takes a list of numbers as input and returns the sum of all even numbers in\n",
    "         the list."
   ]
  },
  {
   "cell_type": "code",
   "execution_count": 20,
   "id": "d337cf58-7d47-47b9-8d0e-3941ea200036",
   "metadata": {},
   "outputs": [],
   "source": [
    "def sum_of_even_numbers(numbers):\n",
    "    total = 0\n",
    "    for num in numbers:\n",
    "        if num % 2 == 0:\n",
    "            total += num\n",
    "    return total"
   ]
  },
  {
   "cell_type": "code",
   "execution_count": 21,
   "id": "9470b845-ca3a-4428-8821-43dff594fe39",
   "metadata": {},
   "outputs": [
    {
     "name": "stdout",
     "output_type": "stream",
     "text": [
      "30\n"
     ]
    }
   ],
   "source": [
    "nums = [1,2,3,4,5,6,7,8,9,10]\n",
    "result = sum_of_even_numbers(nums)\n",
    "print(result)"
   ]
  },
  {
   "cell_type": "raw",
   "id": "996402e1-8ab3-4eae-af70-d52202b51183",
   "metadata": {},
   "source": [
    "Ques2 - Create a Python function that accepts a string and returns the reverse of that string ?"
   ]
  },
  {
   "cell_type": "code",
   "execution_count": 22,
   "id": "fa849bb6-53ac-4d19-a655-de8b09ca2a9b",
   "metadata": {},
   "outputs": [],
   "source": [
    "def reverse_string(s):\n",
    "    return s[::-1]"
   ]
  },
  {
   "cell_type": "code",
   "execution_count": 23,
   "id": "43ac4657-7fc5-4ca6-8a11-fad767a02a9a",
   "metadata": {},
   "outputs": [
    {
     "data": {
      "text/plain": [
       "'dlrow olleh'"
      ]
     },
     "execution_count": 23,
     "metadata": {},
     "output_type": "execute_result"
    }
   ],
   "source": [
    "reverse_string(\"hello world\")"
   ]
  },
  {
   "cell_type": "raw",
   "id": "fc07bf38-d7fa-4409-a8f6-86098e63905b",
   "metadata": {},
   "source": [
    "Ques3 - Implement a Python function that takes a list of integers and returns a new list containing the squares of each number ."
   ]
  },
  {
   "cell_type": "code",
   "execution_count": 41,
   "id": "bd5a3f4a-feb5-44e7-9418-2fa85b8fe8d3",
   "metadata": {},
   "outputs": [],
   "source": [
    "def sqr(n):\n",
    "    list = []\n",
    "    for i in n:\n",
    "        list.append(i**2)\n",
    "    return list"
   ]
  },
  {
   "cell_type": "code",
   "execution_count": 42,
   "id": "9da74b48-1100-4138-a7ee-90e909645195",
   "metadata": {},
   "outputs": [
    {
     "data": {
      "text/plain": [
       "[1, 4, 9, 16]"
      ]
     },
     "execution_count": 42,
     "metadata": {},
     "output_type": "execute_result"
    }
   ],
   "source": [
    "sqr([1,2,3,4])"
   ]
  },
  {
   "cell_type": "raw",
   "id": "73fd29ac-a62c-4b8f-816a-38ca377aea50",
   "metadata": {},
   "source": [
    "Ques4 - Write a Python function that checks if a given number is prime or not from 1 to 200 ."
   ]
  },
  {
   "cell_type": "code",
   "execution_count": 58,
   "id": "20a9d243-4d4d-4323-abd8-5b7d7707b96e",
   "metadata": {},
   "outputs": [],
   "source": [
    "def is_prime(n):\n",
    "    if n < 2 or n > 200:\n",
    "        return False\n",
    "    for i in range(2, int(n**0.5) + 1):\n",
    "        if n % i == 0:\n",
    "            return False\n",
    "    return True"
   ]
  },
  {
   "cell_type": "code",
   "execution_count": 59,
   "id": "847759ee-9e05-4559-8087-742e4d484a28",
   "metadata": {},
   "outputs": [
    {
     "name": "stdout",
     "output_type": "stream",
     "text": [
      "True\n"
     ]
    }
   ],
   "source": [
    "print(is_prime(7))"
   ]
  },
  {
   "cell_type": "raw",
   "id": "debe497c-8efa-46ad-82c1-09f7e5ba0cd9",
   "metadata": {},
   "source": [
    "Ques5 - Create an iterator class in Python that generates the Fibonacci sequence up to a specified number of terms."
   ]
  },
  {
   "cell_type": "code",
   "execution_count": 66,
   "id": "8916439a-f676-4c2f-b1ba-3604064c8c48",
   "metadata": {},
   "outputs": [],
   "source": [
    "def feb(n):\n",
    "    a = 0\n",
    "    b = 1\n",
    "    sequence = []\n",
    "    for i in range(n):\n",
    "        sequence.append(a)\n",
    "        a, b = b, a + b\n",
    "    return sequence"
   ]
  },
  {
   "cell_type": "code",
   "execution_count": 71,
   "id": "768d82f2-f383-4997-b3c0-3bf622c687db",
   "metadata": {},
   "outputs": [
    {
     "data": {
      "text/plain": [
       "[0, 1, 1, 2, 3, 5, 8, 13, 21, 34]"
      ]
     },
     "execution_count": 71,
     "metadata": {},
     "output_type": "execute_result"
    }
   ],
   "source": [
    "feb(10)"
   ]
  },
  {
   "cell_type": "raw",
   "id": "056da369-60b4-4591-ad47-f27eb7a8bb95",
   "metadata": {},
   "source": [
    "Ques6 - Write a generator function in Python that yields the powers of 2 up to a given exponent,"
   ]
  },
  {
   "cell_type": "code",
   "execution_count": 84,
   "id": "20a90da3-cc63-4c42-ba0e-97f472ba1fd9",
   "metadata": {},
   "outputs": [],
   "source": [
    "def powers_of_two(n):\n",
    "    for i in range(n+1):\n",
    "        yield 2 ** i\n",
    "power = powers_of_two(5)"
   ]
  },
  {
   "cell_type": "code",
   "execution_count": 85,
   "id": "dd417ec6-f059-4f1e-bef1-7c9e6a8b0c5b",
   "metadata": {},
   "outputs": [
    {
     "data": {
      "text/plain": [
       "1"
      ]
     },
     "execution_count": 85,
     "metadata": {},
     "output_type": "execute_result"
    }
   ],
   "source": [
    "next(power)"
   ]
  },
  {
   "cell_type": "code",
   "execution_count": 86,
   "id": "f66c3881-03a0-4bbb-8116-d1fe233617bc",
   "metadata": {},
   "outputs": [
    {
     "data": {
      "text/plain": [
       "2"
      ]
     },
     "execution_count": 86,
     "metadata": {},
     "output_type": "execute_result"
    }
   ],
   "source": [
    "next(power)"
   ]
  },
  {
   "cell_type": "code",
   "execution_count": 87,
   "id": "45a3bc2e-f057-4341-b94b-a445357bc2c1",
   "metadata": {},
   "outputs": [
    {
     "data": {
      "text/plain": [
       "4"
      ]
     },
     "execution_count": 87,
     "metadata": {},
     "output_type": "execute_result"
    }
   ],
   "source": [
    "next(power)"
   ]
  },
  {
   "cell_type": "code",
   "execution_count": 88,
   "id": "9b86c951-2b8a-4880-8897-e56018748dea",
   "metadata": {},
   "outputs": [
    {
     "data": {
      "text/plain": [
       "8"
      ]
     },
     "execution_count": 88,
     "metadata": {},
     "output_type": "execute_result"
    }
   ],
   "source": [
    "next(power)"
   ]
  },
  {
   "cell_type": "code",
   "execution_count": 89,
   "id": "7e364991-4618-47d3-bedd-14126c9b51c0",
   "metadata": {},
   "outputs": [
    {
     "data": {
      "text/plain": [
       "16"
      ]
     },
     "execution_count": 89,
     "metadata": {},
     "output_type": "execute_result"
    }
   ],
   "source": [
    "next(power)"
   ]
  },
  {
   "cell_type": "code",
   "execution_count": 90,
   "id": "95f674f0-267f-45b7-9578-fd324f1e00e3",
   "metadata": {},
   "outputs": [
    {
     "data": {
      "text/plain": [
       "32"
      ]
     },
     "execution_count": 90,
     "metadata": {},
     "output_type": "execute_result"
    }
   ],
   "source": [
    "next(power)"
   ]
  },
  {
   "cell_type": "code",
   "execution_count": 91,
   "id": "29c215a7-c460-481b-b004-cb242dc52134",
   "metadata": {},
   "outputs": [
    {
     "ename": "StopIteration",
     "evalue": "",
     "output_type": "error",
     "traceback": [
      "\u001b[31m---------------------------------------------------------------------------\u001b[39m",
      "\u001b[31mStopIteration\u001b[39m                             Traceback (most recent call last)",
      "\u001b[36mCell\u001b[39m\u001b[36m \u001b[39m\u001b[32mIn[91]\u001b[39m\u001b[32m, line 1\u001b[39m\n\u001b[32m----> \u001b[39m\u001b[32m1\u001b[39m \u001b[38;5;28;43mnext\u001b[39;49m\u001b[43m(\u001b[49m\u001b[43mpower\u001b[49m\u001b[43m)\u001b[49m\n",
      "\u001b[31mStopIteration\u001b[39m: "
     ]
    }
   ],
   "source": [
    "next(power)"
   ]
  },
  {
   "cell_type": "raw",
   "id": "06b93b16-be79-49f0-af56-ad2c6419ee35",
   "metadata": {},
   "source": [
    "Ques8 - Use a lambda function in Python to sort a list of tuples based on the second element of each tuple."
   ]
  },
  {
   "cell_type": "code",
   "execution_count": 92,
   "id": "311a9916-cdc0-4c61-9ef8-9acbdc59cb64",
   "metadata": {},
   "outputs": [
    {
     "name": "stdout",
     "output_type": "stream",
     "text": [
      "[(39, 5), (55, 9), (45, 10), (10, 15)]\n"
     ]
    }
   ],
   "source": [
    "data = ((10, 15), (55, 9), (45, 10), (39, 5))\n",
    "sorted_data = sorted(data, key=lambda x: x[1])\n",
    "print(sorted_data)"
   ]
  },
  {
   "cell_type": "raw",
   "id": "dbee2c28-fa3c-462f-96cf-7bc0dc2db319",
   "metadata": {},
   "source": [
    "Ques9 - Write a Python program that uses `map()` to convert a list of temperatures from Celsius to Fahrenheit."
   ]
  },
  {
   "cell_type": "code",
   "execution_count": 2,
   "id": "1671b3ae-1951-4bcf-9362-fd93756ef5a5",
   "metadata": {},
   "outputs": [
    {
     "name": "stdout",
     "output_type": "stream",
     "text": [
      "Celsius temperatures: [0, 10, 20, 30, 40, 100]\n",
      "Fahrenheit temperatures: [32.0, 50.0, 68.0, 86.0, 104.0, 212.0]\n"
     ]
    }
   ],
   "source": [
    "def celsius_to_fahrenheit(celsius):\n",
    "    return (celsius * 9/5) + 32\n",
    "celsius_temps = [0, 10, 20, 30, 40, 100]\n",
    "fahrenheit_temps = list(map(celsius_to_fahrenheit, celsius_temps))\n",
    "print(\"Celsius temperatures:\", celsius_temps)\n",
    "print(\"Fahrenheit temperatures:\", fahrenheit_temps)\n"
   ]
  },
  {
   "cell_type": "raw",
   "id": "51714efe-bf09-4286-b558-d44584a6da64",
   "metadata": {},
   "source": [
    "Ques10 -Create a Python program that uses `filter()` to remove all the vowels from a given string."
   ]
  },
  {
   "cell_type": "code",
   "execution_count": 6,
   "id": "0d205737-92c2-44bd-8fae-72cb97fd9da2",
   "metadata": {},
   "outputs": [
    {
     "name": "stdout",
     "output_type": "stream",
     "text": [
      "Original string: Hello World!\n",
      "String without vowels: Hll Wrld!\n"
     ]
    }
   ],
   "source": [
    "def is_not_vowel(char):\n",
    "    return char.lower() not in 'aeiou'\n",
    "input_str = \"Hello World!\"\n",
    "filtered_str = ''.join(filter(is_not_vowel, input_str))\n",
    "print(\"Original string:\", input_str)\n",
    "print(\"String without vowels:\", filtered_str)\n"
   ]
  },
  {
   "cell_type": "code",
   "execution_count": null,
   "id": "0291e597-b85a-44c3-b4e4-ce22a87767c9",
   "metadata": {},
   "outputs": [],
   "source": []
  }
 ],
 "metadata": {
  "kernelspec": {
   "display_name": "Python 3 (ipykernel)",
   "language": "python",
   "name": "python3"
  },
  "language_info": {
   "codemirror_mode": {
    "name": "ipython",
    "version": 3
   },
   "file_extension": ".py",
   "mimetype": "text/x-python",
   "name": "python",
   "nbconvert_exporter": "python",
   "pygments_lexer": "ipython3",
   "version": "3.13.5"
  }
 },
 "nbformat": 4,
 "nbformat_minor": 5
}
